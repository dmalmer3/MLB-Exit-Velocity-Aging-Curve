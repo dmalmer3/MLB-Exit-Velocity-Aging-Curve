{
 "cells": [
  {
   "cell_type": "code",
   "execution_count": 47,
   "metadata": {},
   "outputs": [],
   "source": [
    "import numpy as np\n",
    "import statistics\n",
    "import pandas as pd\n",
    "import matplotlib as plt\n",
    "%matplotlib inline\n",
    "import seaborn as sns"
   ]
  },
  {
   "cell_type": "code",
   "execution_count": 2,
   "metadata": {},
   "outputs": [],
   "source": [
    "# Read in the CSV file.\n",
    "aging_data_filepath = r'C:/Users/Davis/Desktop/savant/ev_aging.csv'\n",
    "df = pd.read_csv(aging_data_filepath)"
   ]
  },
  {
   "cell_type": "code",
   "execution_count": 3,
   "metadata": {},
   "outputs": [],
   "source": [
    "# Create new column combining the first name and last name columns and make it the index.\n",
    "df[\"name\"] = df[' first_name'] + ' ' + df['last_name']\n",
    "full_data = df.drop([' first_name', 'last_name', 'Unnamed: 15'], axis=1)\n",
    "full_data = full_data.set_index('name')"
   ]
  },
  {
   "cell_type": "code",
   "execution_count": 4,
   "metadata": {},
   "outputs": [
    {
     "data": {
      "text/html": [
       "<div>\n",
       "<style scoped>\n",
       "    .dataframe tbody tr th:only-of-type {\n",
       "        vertical-align: middle;\n",
       "    }\n",
       "\n",
       "    .dataframe tbody tr th {\n",
       "        vertical-align: top;\n",
       "    }\n",
       "\n",
       "    .dataframe thead th {\n",
       "        text-align: right;\n",
       "    }\n",
       "</style>\n",
       "<table border=\"1\" class=\"dataframe\">\n",
       "  <thead>\n",
       "    <tr style=\"text-align: right;\">\n",
       "      <th></th>\n",
       "      <th>year</th>\n",
       "      <th>player_age</th>\n",
       "      <th>b_total_pa</th>\n",
       "      <th>exit_velocity_avg</th>\n",
       "      <th>launch_angle_avg</th>\n",
       "      <th>barrel_batted_rate</th>\n",
       "      <th>hard_hit_percent</th>\n",
       "      <th>z_swing_percent</th>\n",
       "      <th>oz_swing_percent</th>\n",
       "      <th>groundballs_percent</th>\n",
       "      <th>flyballs_percent</th>\n",
       "      <th>linedrives_percent</th>\n",
       "      <th>popups_percent</th>\n",
       "    </tr>\n",
       "    <tr>\n",
       "      <th>name</th>\n",
       "      <th></th>\n",
       "      <th></th>\n",
       "      <th></th>\n",
       "      <th></th>\n",
       "      <th></th>\n",
       "      <th></th>\n",
       "      <th></th>\n",
       "      <th></th>\n",
       "      <th></th>\n",
       "      <th></th>\n",
       "      <th></th>\n",
       "      <th></th>\n",
       "      <th></th>\n",
       "    </tr>\n",
       "  </thead>\n",
       "  <tbody>\n",
       "    <tr>\n",
       "      <th>Albert Pujols</th>\n",
       "      <td>2019</td>\n",
       "      <td>39</td>\n",
       "      <td>545</td>\n",
       "      <td>88.3</td>\n",
       "      <td>12.4</td>\n",
       "      <td>6.0</td>\n",
       "      <td>36.3</td>\n",
       "      <td>59.7</td>\n",
       "      <td>30.8</td>\n",
       "      <td>46.2</td>\n",
       "      <td>26.7</td>\n",
       "      <td>16.9</td>\n",
       "      <td>10.2</td>\n",
       "    </tr>\n",
       "    <tr>\n",
       "      <th>Miguel Cabrera</th>\n",
       "      <td>2019</td>\n",
       "      <td>36</td>\n",
       "      <td>549</td>\n",
       "      <td>90.3</td>\n",
       "      <td>12.2</td>\n",
       "      <td>6.4</td>\n",
       "      <td>44.6</td>\n",
       "      <td>67.8</td>\n",
       "      <td>34.0</td>\n",
       "      <td>44.9</td>\n",
       "      <td>22.3</td>\n",
       "      <td>27.9</td>\n",
       "      <td>4.9</td>\n",
       "    </tr>\n",
       "    <tr>\n",
       "      <th>Jeff Mathis</th>\n",
       "      <td>2019</td>\n",
       "      <td>36</td>\n",
       "      <td>244</td>\n",
       "      <td>85.7</td>\n",
       "      <td>16.8</td>\n",
       "      <td>1.4</td>\n",
       "      <td>26.4</td>\n",
       "      <td>68.6</td>\n",
       "      <td>34.1</td>\n",
       "      <td>40.1</td>\n",
       "      <td>23.2</td>\n",
       "      <td>23.9</td>\n",
       "      <td>12.7</td>\n",
       "    </tr>\n",
       "    <tr>\n",
       "      <th>Shin-Soo Choo</th>\n",
       "      <td>2019</td>\n",
       "      <td>37</td>\n",
       "      <td>660</td>\n",
       "      <td>91.3</td>\n",
       "      <td>8.7</td>\n",
       "      <td>8.8</td>\n",
       "      <td>49.0</td>\n",
       "      <td>63.9</td>\n",
       "      <td>20.1</td>\n",
       "      <td>50.6</td>\n",
       "      <td>22.3</td>\n",
       "      <td>23.6</td>\n",
       "      <td>3.5</td>\n",
       "    </tr>\n",
       "    <tr>\n",
       "      <th>Rene Rivera</th>\n",
       "      <td>2019</td>\n",
       "      <td>36</td>\n",
       "      <td>20</td>\n",
       "      <td>87.6</td>\n",
       "      <td>19.2</td>\n",
       "      <td>0.0</td>\n",
       "      <td>23.1</td>\n",
       "      <td>66.7</td>\n",
       "      <td>20.0</td>\n",
       "      <td>46.2</td>\n",
       "      <td>46.2</td>\n",
       "      <td>7.7</td>\n",
       "      <td>0.0</td>\n",
       "    </tr>\n",
       "  </tbody>\n",
       "</table>\n",
       "</div>"
      ],
      "text/plain": [
       "                 year  player_age  b_total_pa  exit_velocity_avg  \\\n",
       "name                                                               \n",
       " Albert Pujols   2019          39         545               88.3   \n",
       " Miguel Cabrera  2019          36         549               90.3   \n",
       " Jeff Mathis     2019          36         244               85.7   \n",
       " Shin-Soo Choo   2019          37         660               91.3   \n",
       " Rene Rivera     2019          36          20               87.6   \n",
       "\n",
       "                 launch_angle_avg  barrel_batted_rate  hard_hit_percent  \\\n",
       "name                                                                      \n",
       " Albert Pujols               12.4                 6.0              36.3   \n",
       " Miguel Cabrera              12.2                 6.4              44.6   \n",
       " Jeff Mathis                 16.8                 1.4              26.4   \n",
       " Shin-Soo Choo                8.7                 8.8              49.0   \n",
       " Rene Rivera                 19.2                 0.0              23.1   \n",
       "\n",
       "                 z_swing_percent  oz_swing_percent  groundballs_percent  \\\n",
       "name                                                                      \n",
       " Albert Pujols              59.7              30.8                 46.2   \n",
       " Miguel Cabrera             67.8              34.0                 44.9   \n",
       " Jeff Mathis                68.6              34.1                 40.1   \n",
       " Shin-Soo Choo              63.9              20.1                 50.6   \n",
       " Rene Rivera                66.7              20.0                 46.2   \n",
       "\n",
       "                 flyballs_percent  linedrives_percent  popups_percent  \n",
       "name                                                                   \n",
       " Albert Pujols               26.7                16.9            10.2  \n",
       " Miguel Cabrera              22.3                27.9             4.9  \n",
       " Jeff Mathis                 23.2                23.9            12.7  \n",
       " Shin-Soo Choo               22.3                23.6             3.5  \n",
       " Rene Rivera                 46.2                 7.7             0.0  "
      ]
     },
     "execution_count": 4,
     "metadata": {},
     "output_type": "execute_result"
    }
   ],
   "source": [
    "# Show the first five rows \n",
    "full_data.head()"
   ]
  },
  {
   "cell_type": "code",
   "execution_count": 5,
   "metadata": {},
   "outputs": [],
   "source": [
    "# Drop the all ages that don't have at least 30 instances (ages used are 22-37)\n",
    "full_data = full_data.query('player_age != [21, 38, 39, 40, 20, 43, 44, 42, 41, 45]')"
   ]
  },
  {
   "cell_type": "code",
   "execution_count": 6,
   "metadata": {},
   "outputs": [],
   "source": [
    "# Create a dictionary and then loop through the dataset adding each player to the key that corresponds to their age.\n",
    "ages_dict = {}\n",
    "for i in range(22, 38):\n",
    "    ages_dict[i] = full_data.query('player_age == @i')"
   ]
  },
  {
   "cell_type": "code",
   "execution_count": 37,
   "metadata": {},
   "outputs": [
    {
     "data": {
      "text/plain": [
       "Index(['year_22', 'player_age_22', 'b_total_pa_22', 'exit_velocity_avg_22',\n",
       "       'launch_angle_avg_22', 'barrel_batted_rate_22', 'hard_hit_percent_22',\n",
       "       'z_swing_percent_22', 'oz_swing_percent_22', 'groundballs_percent_22',\n",
       "       'flyballs_percent_22', 'linedrives_percent_22', 'popups_percent_22',\n",
       "       'year_23', 'player_age_23', 'b_total_pa_23', 'exit_velocity_avg_23',\n",
       "       'launch_angle_avg_23', 'barrel_batted_rate_23', 'hard_hit_percent_23',\n",
       "       'z_swing_percent_23', 'oz_swing_percent_23', 'groundballs_percent_23',\n",
       "       'flyballs_percent_23', 'linedrives_percent_23', 'popups_percent_23'],\n",
       "      dtype='object')"
      ]
     },
     "execution_count": 37,
     "metadata": {},
     "output_type": "execute_result"
    }
   ],
   "source": [
    "ages_dict[22].join(ages_dict[23], lsuffix=('_'+str(22)), rsuffix=('_'+str(23)), how='inner').columns"
   ]
  },
  {
   "cell_type": "code",
   "execution_count": 41,
   "metadata": {},
   "outputs": [],
   "source": [
    "ev_diffs = {}\n",
    "def calc_diff(age1, age2):\n",
    "    \"\"\"\n",
    "    Takes in two ages and will calculate the ev difference for each player between those two ages and then weight the ev\n",
    "    based on the minimum plate appearances from the two seasons. Lastly it will append the weighted value to a list\n",
    "    contained in a dictionary with the key corresponding to the older of the two ages passed to the function.\n",
    "    \"\"\"\n",
    "    # Join the df of the first and second age only for players that appear in both ages.\n",
    "    ev_diffs[age2] = []\n",
    "    comb_df = ages_dict[age1].join(ages_dict[age2], lsuffix=('_'+str(age1)), rsuffix=('_'+str(age2)), how='inner')\n",
    "    \n",
    "    # Calculate each players ev difference and weight it based on plate appearances.\n",
    "    for row in comb_df.itertuples():\n",
    "        diff = row[17] - row[4]\n",
    "        weighted_diff = diff * min(row[3], row[16])\n",
    "        ev_diffs[age2].append(weighted_diff)"
   ]
  },
  {
   "cell_type": "code",
   "execution_count": 44,
   "metadata": {
    "scrolled": false
   },
   "outputs": [],
   "source": [
    "# Loop through every age combination and calculate the ev difference.\n",
    "for i in range(22, 37):\n",
    "    calc_diff(i, i + 1)"
   ]
  },
  {
   "cell_type": "code",
   "execution_count": 49,
   "metadata": {},
   "outputs": [],
   "source": [
    "# Calculate the mean weighted ev difference for each age group.\n",
    "ev_means = {}\n",
    "for key, value in ev_diffs.items():\n",
    "    ev_means[key] = statistics.mean(value)"
   ]
  },
  {
   "cell_type": "code",
   "execution_count": 51,
   "metadata": {},
   "outputs": [
    {
     "data": {
      "text/plain": [
       "{23: 34.75686274509819,\n",
       " 24: 76.48053097345131,\n",
       " 25: 8.665641025641191,\n",
       " 26: 91.95489361702114,\n",
       " 27: 42.09841269841282,\n",
       " 28: 46.71306306306312,\n",
       " 29: 46.852380952380756,\n",
       " 30: 21.678142076502866,\n",
       " 31: 12.466901408450891,\n",
       " 32: -69.27372262773751,\n",
       " 33: 66.48951612903247,\n",
       " 34: -127.03809523809515,\n",
       " 35: 77.10125000000005,\n",
       " 36: -34.040816326530454,\n",
       " 37: -71.18181818181807}"
      ]
     },
     "execution_count": 51,
     "metadata": {},
     "output_type": "execute_result"
    }
   ],
   "source": [
    "ev_means"
   ]
  },
  {
   "cell_type": "code",
   "execution_count": 54,
   "metadata": {},
   "outputs": [],
   "source": [
    "# Find the cumulative change for each age chronologically.\n",
    "cumu_diff = {}\n",
    "sum = 0\n",
    "for key, value in ev_means.items():\n",
    "    sum+= value\n",
    "    cumu_diff[key]= sum"
   ]
  },
  {
   "cell_type": "code",
   "execution_count": 55,
   "metadata": {},
   "outputs": [
    {
     "data": {
      "text/plain": [
       "{23: 34.75686274509819,\n",
       " 24: 111.2373937185495,\n",
       " 25: 119.90303474419069,\n",
       " 26: 211.85792836121183,\n",
       " 27: 253.95634105962466,\n",
       " 28: 300.66940412268775,\n",
       " 29: 347.5217850750685,\n",
       " 30: 369.1999271515714,\n",
       " 31: 381.6668285600223,\n",
       " 32: 312.39310593228475,\n",
       " 33: 378.8826220613172,\n",
       " 34: 251.84452682322205,\n",
       " 35: 328.9457768232221,\n",
       " 36: 294.9049604966917,\n",
       " 37: 223.7231423148736}"
      ]
     },
     "execution_count": 55,
     "metadata": {},
     "output_type": "execute_result"
    }
   ],
   "source": [
    "cumu_diff"
   ]
  },
  {
   "cell_type": "code",
   "execution_count": 64,
   "metadata": {},
   "outputs": [
    {
     "data": {
      "text/plain": [
       "<matplotlib.axes._subplots.AxesSubplot at 0x1b3a37ee248>"
      ]
     },
     "execution_count": 64,
     "metadata": {},
     "output_type": "execute_result"
    },
    {
     "data": {
      "image/png": "[encoded data removed]",
      "text/plain": [
       "<Figure size 720x432 with 1 Axes>"
      ]
     },
     "metadata": {
      "needs_background": "light"
     },
     "output_type": "display_data"
    }
   ],
   "source": [
    "plt.pyplot.figure(figsize=(10, 6))\n",
    "sns.regplot(x=list(cumu_diff.keys()), y=list(cumu_diff.values()), order=2)"
   ]
  }
 ],
 "metadata": {
  "kernelspec": {
   "display_name": "Python 3",
   "language": "python",
   "name": "python3"
  },
  "language_info": {
   "codemirror_mode": {
    "name": "ipython",
    "version": 3
   },
   "file_extension": ".py",
   "mimetype": "text/x-python",
   "name": "python",
   "nbconvert_exporter": "python",
   "pygments_lexer": "ipython3",
   "version": "3.7.7"
  }
 },
 "nbformat": 4,
 "nbformat_minor": 4
}
